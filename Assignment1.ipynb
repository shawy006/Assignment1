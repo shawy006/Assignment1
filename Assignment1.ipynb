{
 "cells": [
  {
   "cell_type": "code",
   "execution_count": 1,
   "id": "df821a09-e4a0-4141-8176-ade31e548c88",
   "metadata": {},
   "outputs": [
    {
     "name": "stdout",
     "output_type": "stream",
     "text": [
      "printing 1 to 10\n",
      "1\n",
      "2\n",
      "3\n",
      "4\n",
      "5\n",
      "6\n",
      "7\n",
      "8\n",
      "9\n",
      "10\n",
      "\n",
      "\n",
      "printing till 10\n",
      "1\n",
      "2\n",
      "3\n",
      "4\n",
      "5\n",
      "6\n",
      "7\n",
      "8\n",
      "9\n",
      "10\n"
     ]
    }
   ],
   "source": [
    "# for loop is used when total numbers of iteration is known whereas while loop is used where number of iteration is unknown.\n",
    "print('printing 1 to 10')\n",
    "for i in range(1,11,1):\n",
    "    print(i)\n",
    "    \n",
    "print('\\n')\n",
    "print('printing till 10')\n",
    "j=1\n",
    "while(j<=10):\n",
    "    print(j)\n",
    "    j+=1\n"
   ]
  },
  {
   "cell_type": "code",
   "execution_count": 2,
   "id": "f2d3f11e-8a41-4243-ac61-5a1a911d8de8",
   "metadata": {},
   "outputs": [
    {
     "name": "stdout",
     "output_type": "stream",
     "text": [
      "55 3628800\n"
     ]
    }
   ],
   "source": [
    "s=0\n",
    "p=1\n",
    "for i in range(1,11):\n",
    "    s+=i\n",
    "    p*=i\n",
    "print(s,p)\n"
   ]
  },
  {
   "cell_type": "code",
   "execution_count": 3,
   "id": "f563da0a-64cb-47c6-8955-620b1cca9a1d",
   "metadata": {},
   "outputs": [
    {
     "name": "stdout",
     "output_type": "stream",
     "text": [
      "55 3628800\n"
     ]
    }
   ],
   "source": [
    "su=0\n",
    "pro=1\n",
    "cond=1\n",
    "while cond<=10:\n",
    "    su+=cond\n",
    "    pro*=cond\n",
    "    cond+=1\n",
    "print(su,pro)"
   ]
  },
  {
   "cell_type": "code",
   "execution_count": 4,
   "id": "d5739074-a07f-496b-85af-034e8641907c",
   "metadata": {},
   "outputs": [
    {
     "name": "stdin",
     "output_type": "stream",
     "text": [
      " 310\n"
     ]
    },
    {
     "name": "stdout",
     "output_type": "stream",
     "text": [
      "2250\n"
     ]
    }
   ],
   "source": [
    "user_unit=eval(input())\n",
    "if user_unit<=100:\n",
    "    bill=4.5*user_unit\n",
    "elif 100< user_unit <=200:\n",
    "    bill=4.5*100 + (user_input-100)*6\n",
    "elif 200 < user_unit <=300:\n",
    "    bill=4.5*100+ 6*100+ (user_unit-200)*10\n",
    "else:\n",
    "    bill=4.5*100+ 6*100+ 10*100+ (user_unit-300)*20\n",
    "print(int(bill))\n",
    "    "
   ]
  },
  {
   "cell_type": "code",
   "execution_count": 5,
   "id": "188b986e-06d7-4cc9-8076-c9c75622dac3",
   "metadata": {},
   "outputs": [
    {
     "name": "stdout",
     "output_type": "stream",
     "text": [
      "[8, 64, 125, 216, 512, 1000, 1728, 2744, 3375, 4096, 5832, 8000, 10648, 13824, 15625, 17576, 21952, 27000, 32768, 39304, 42875, 46656, 54872, 64000, 74088, 85184, 91125, 97336, 110592, 125000, 140608, 157464, 166375, 175616, 195112, 216000, 238328, 262144, 274625, 287496, 314432, 343000, 373248, 405224, 421875, 438976, 474552, 512000, 551368, 592704, 614125, 636056, 681472, 729000, 778688, 830584, 857375, 884736, 941192, 1000000]\n"
     ]
    }
   ],
   "source": [
    "final_list=[]\n",
    "cube_list=[num**3 for num in range(1,101)]\n",
    "for x in cube_list:\n",
    "    if x%4==0 or x%5==0:\n",
    "        final_list.append(x)\n",
    "print(final_list)"
   ]
  },
  {
   "cell_type": "code",
   "execution_count": 6,
   "id": "ab6eeb7d-1db2-4a48-abd9-748c8d134aaa",
   "metadata": {},
   "outputs": [
    {
     "name": "stdout",
     "output_type": "stream",
     "text": [
      "12\n"
     ]
    }
   ],
   "source": [
    "vowel_list=['a','e','i','o','u']\n",
    "string = \"I want to become a data scientist\"\n",
    "count=0\n",
    "for st in string.lower():\n",
    "    if st in vowel_list:\n",
    "        count+=1\n",
    "print(count)"
   ]
  },
  {
   "cell_type": "code",
   "execution_count": null,
   "id": "cf02c9c2-2b17-46a9-b672-39df2b67d259",
   "metadata": {},
   "outputs": [],
   "source": []
  }
 ],
 "metadata": {
  "kernelspec": {
   "display_name": "Python 3 (ipykernel)",
   "language": "python",
   "name": "python3"
  },
  "language_info": {
   "codemirror_mode": {
    "name": "ipython",
    "version": 3
   },
   "file_extension": ".py",
   "mimetype": "text/x-python",
   "name": "python",
   "nbconvert_exporter": "python",
   "pygments_lexer": "ipython3",
   "version": "3.10.8"
  }
 },
 "nbformat": 4,
 "nbformat_minor": 5
}
